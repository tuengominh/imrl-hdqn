{
  "nbformat": 4,
  "nbformat_minor": 0,
  "metadata": {
    "colab": {
      "name": "IMRL_hDQN.ipynb",
      "provenance": [],
      "collapsed_sections": [
        "tM58B_Ghwpve",
        "dEWOe6SmuaO_",
        "mv24ap6culqL",
        "5Mmu9H0lxmHU",
        "h4phZtxwxuLj",
        "mpQvpWwaSs_v",
        "Nb3L-EncthpL",
        "5wT1UnUPDszQ",
        "8ElFyIH4Hpxd",
        "BPYnvPXUtdwm",
        "mrXycHJJGKhU",
        "crTkIsUF6eTO",
        "I_5AdgKf6cQJ",
        "q7li3uRE1amp",
        "32EaJTK1vMlo",
        "ObZ4n8717CiL",
        "2UGRXdCMD9Dp"
      ],
      "machine_shape": "hm"
    },
    "kernelspec": {
      "name": "python3",
      "display_name": "Python 3"
    },
    "language_info": {
      "name": "python"
    },
    "accelerator": "TPU"
  },
  "cells": [
    {
      "cell_type": "markdown",
      "metadata": {
        "id": "tM58B_Ghwpve"
      },
      "source": [
        "# Libraries"
      ]
    },
    {
      "cell_type": "code",
      "metadata": {
        "id": "K28blB_Avlu8"
      },
      "source": [
        "import os\n",
        "import sys\n",
        "import logging\n",
        "import time\n",
        "import copy\n",
        "from collections import namedtuple, defaultdict\n",
        "import pickle\n",
        "import itertools\n",
        "from itertools import count\n",
        "import random\n",
        "from random import randint\n",
        "import math\n",
        "import numpy as np\n",
        "import pandas as pd\n",
        "import matplotlib as plt\n",
        "from matplotlib import pyplot\n",
        "plt.style.use('ggplot')\n",
        "%matplotlib inline"
      ],
      "execution_count": 1,
      "outputs": []
    },
    {
      "cell_type": "code",
      "metadata": {
        "id": "zSjrIG_Dvxh3"
      },
      "source": [
        "# Gym\n",
        "import gym\n",
        "from gym.envs.registration import register\n",
        "from gym import wrappers\n",
        "from gym import spaces\n",
        "from gym.utils import seeding"
      ],
      "execution_count": 2,
      "outputs": []
    },
    {
      "cell_type": "code",
      "metadata": {
        "id": "T_cLOloGGCNA"
      },
      "source": [
        "# PyTorch\n",
        "import torch\n",
        "import torch.optim as optim\n",
        "import torch.nn as nn\n",
        "import torch.nn.functional as F\n",
        "import torch.autograd as autograd"
      ],
      "execution_count": 3,
      "outputs": []
    },
    {
      "cell_type": "markdown",
      "metadata": {
        "id": "IacYu7oWpO7b"
      },
      "source": [
        "# Environments"
      ]
    },
    {
      "cell_type": "markdown",
      "metadata": {
        "id": "-zol0mfD9mMY"
      },
      "source": [
        "## FourRooms environment\n",
        "\n",
        "A custom four rooms game environment as described in this [paper](http://www-anw.cs.umass.edu/~barto/courses/cs687/Sutton-Precup-Singh-AIJ99.pdf)."
      ]
    },
    {
      "cell_type": "markdown",
      "metadata": {
        "id": "dEWOe6SmuaO_"
      },
      "source": [
        "### Customize the environment\n",
        "\n",
        "**References:** \n",
        "- https://github.com/maximecb/gym-minigrid/blob/master/gym_minigrid/envs/fourrooms.py\n",
        "- https://github.com/p-christ/Deep-Reinforcement-Learning-Algorithms-with-PyTorch/blob/master/environments/Four_Rooms_Environment.py\n",
        "\n",
        "**Modifications:**\n",
        "- Rewrite a class from the references only keeping attributes I need.\n",
        "- More functions to get extra info from the environment"
      ]
    },
    {
      "cell_type": "code",
      "metadata": {
        "id": "uJXBBJE63ww_"
      },
      "source": [
        "class Four_Rooms_Env(gym.Env):\n",
        "  def __init__(self, width=15, height=15, \n",
        "               random_start_user_loc=True,\n",
        "               random_goal_loc=True):\n",
        "  \n",
        "    self.grid_width = width\n",
        "    self.grid_height = height\n",
        "    self.random_start_user_loc = random_start_user_loc\n",
        "    self.random_goal_loc = random_goal_loc\n",
        "\n",
        "    self.blank_space = \"    \"\n",
        "    self.wall_space = \"WALL\"\n",
        "    self.user_space = \"USER\"\n",
        "    self.goal_space = \"GOAL\"\n",
        "\n",
        "    self.actions = set(range(4))\n",
        "    self.action_space = spaces.Discrete(4)\n",
        "    self.action_opts = {0: \"Up\", 1: \"Right\", 2: \"Down\", 3: \"Left\"}\n",
        "\n",
        "    self.current_user_loc = None\n",
        "    self.current_goal_loc = None\n",
        "    self.num_possible_states = self.grid_height * self.grid_width\n",
        "    self.positive_reward = (self.grid_width + self.grid_height) * 3.0 # for achieving goal\n",
        "    self.negative_reward = -1.0 # for not achieving goal\n",
        "    self.reward_threshold = 0.0\n",
        "    self.cummulative_reward = 0.0\n",
        "    self.max_episode_steps = self.positive_reward\n",
        "\n",
        "    if self.random_goal_loc:\n",
        "      self.observation_space = spaces.Dict(dict(\n",
        "        desired_goal=spaces.Box(0, self.num_possible_states, shape=(1,), dtype='float32'),\n",
        "        achieved_goal=spaces.Box(0, self.num_possible_states, shape=(1,), dtype='float32'),\n",
        "        observation=spaces.Box(0, self.num_possible_states, shape=(1,), dtype='float32'),\n",
        "      ))\n",
        "    else:\n",
        "      self.observation_space = spaces.Discrete(self.num_possible_states)\n",
        "\n",
        "  def create_grid(self):\n",
        "    grid = [[self.blank_space for _ in range(self.grid_width)] for _ in range(self.grid_height)]\n",
        "    \n",
        "    centre_col = int(self.grid_width / 2)\n",
        "    centre_row = int(self.grid_height / 2)\n",
        "    gaps = [(centre_row, int(centre_col / 2) - 1),  \n",
        "            (centre_row, centre_col + int(centre_col / 2)),\n",
        "            (int(centre_row / 2), centre_col),\n",
        "            (centre_row + int(centre_row / 2) + 1, centre_col)]\n",
        "    \n",
        "    for row in range(self.grid_height):\n",
        "      for col in range(self.grid_width):\n",
        "        if row == 0 or col == 0 or row == self.grid_height - 1 or col == self.grid_width - 1:\n",
        "          grid[row][col] = self.wall_space\n",
        "        if row == centre_row or col == centre_col:\n",
        "          grid[row][col] = self.wall_space\n",
        "        if (row , col) in gaps:\n",
        "          grid[row][col] = self.blank_space\n",
        "    \n",
        "    return grid\n",
        "\n",
        "  def reset(self):\n",
        "    self.grid = self.create_grid()\n",
        "    self.place_goal()\n",
        "    self.place_agent()\n",
        "\n",
        "    self.desired_goal = [self.location_to_state(self.current_goal_loc)]\n",
        "    self.achieved_goal = [self.location_to_state(self.current_user_loc)]\n",
        "    self.step_count = 0\n",
        "    \n",
        "    self.state = [self.location_to_state(self.current_user_loc), self.location_to_state(self.current_goal_loc)]\n",
        "    self.next_state = None\n",
        "    self.reward = 0\n",
        "    self.done = False\n",
        "    self.achieved_goal = self.state[:1]\n",
        "\n",
        "    if self.random_goal_loc:\n",
        "      self.s = {\"observation\": np.array(self.state[:1]),\n",
        "                \"desired_goal\": np.array(self.desired_goal),\n",
        "                \"achieved_goal\": np.array(self.achieved_goal)}\n",
        "    else:\n",
        "      self.s = np.array(self.state[:1])\n",
        "\n",
        "    return self.s\n",
        "\n",
        "  def step(self, action):\n",
        "    if type(action) is np.ndarray:\n",
        "      assert action.shape[0] == 1\n",
        "      assert len(action.shape) == 1\n",
        "      action = action[0]\n",
        "\n",
        "    self.step_count += 1\n",
        "    #self.print_action(action)\n",
        "    new_state = self.calculate_new_state(action)\n",
        "\n",
        "    if not self.is_wall(new_state):\n",
        "      self.move_user(self.current_user_loc, new_state)\n",
        "    \n",
        "    self.next_state = [self.location_to_state(self.current_user_loc), self.desired_goal[0]]\n",
        "\n",
        "    if self.goal_colocation():\n",
        "      #print(\"Co-located with goal!\")\n",
        "      self.reward = self.positive_reward\n",
        "      self.cummulative_reward += self.reward\n",
        "      self.done = True\n",
        "    else:\n",
        "      self.reward = self.negative_reward\n",
        "      self.cummulative_reward += self.reward\n",
        "      if self.step_count >= self.max_episode_steps: \n",
        "        self.done = True\n",
        "      else: \n",
        "        self.done = False\n",
        "    self.achieved_goal = self.next_state[:1]\n",
        "    self.state = self.next_state\n",
        "\n",
        "    if self.random_goal_loc:\n",
        "      self.s = {\"observation\": np.array(self.next_state[:1]),\n",
        "                \"desired_goal\": np.array(self.desired_goal),\n",
        "                \"achieved_goal\": np.array(self.achieved_goal)}\n",
        "    else:\n",
        "      self.s = np.array(self.next_state[:1])\n",
        "\n",
        "    #print(self.s)\n",
        "    #print(\"Step reward:\", self.reward)\n",
        "    #print(\"Cummulative reward:\", self.cummulative_reward)\n",
        "    #print(\"Done:\", self.done)\n",
        "    #self.visualize()\n",
        "    return self.s, self.reward, self.done, {}\n",
        "\n",
        "  # Map a (x, y) location to an number that represents its position\n",
        "  def location_to_state(self, location):\n",
        "    return location[0] + location[1] * self.grid_height\n",
        "\n",
        "  # Map a state number to the (x, y) grid point \n",
        "  def state_to_location(self, state):\n",
        "    col = int(state / self.grid_height)\n",
        "    row = state - col * self.grid_height\n",
        "    return (row, col)\n",
        "\n",
        "  def random_place(self, obj, invalid_places):\n",
        "    placed = False\n",
        "    while not placed:\n",
        "      random_row = randint(0, self.grid_height - 1)\n",
        "      random_col = randint(0, self.grid_width - 1)\n",
        "\n",
        "      if self.grid[random_row][random_col] not in invalid_places:\n",
        "        self.grid[random_row][random_col] = obj\n",
        "        placed = True\n",
        "\n",
        "    return (random_row, random_col)\n",
        "  \n",
        "  def place_goal(self):\n",
        "    if self.random_goal_loc:\n",
        "      self.current_goal_loc = self.random_place(self.goal_space, [self.wall_space, self.user_space])\n",
        "    else:\n",
        "      self.current_goal_loc = (3, 3)\n",
        "      self.grid[3][3] = self.goal_space\n",
        "  \n",
        "  def place_agent(self):\n",
        "    if self.random_start_user_loc:\n",
        "      self.current_user_loc = self.random_place(self.user_space, [self.wall_space, self.goal_space])\n",
        "    else:\n",
        "      self.current_user_loc = (1, 1)\n",
        "      self.grid[1][1] = self.user_space\n",
        "  \n",
        "  def print_action(self, action):\n",
        "    if action == 0:\n",
        "      print(\"Action picked: Up\")\n",
        "    elif action == 1:\n",
        "      print(\"Action picked: Right\")\n",
        "    elif action == 2:\n",
        "      print(\"Action picked: Down\")\n",
        "    elif action == 3:\n",
        "      print(\"Action picked: Left\")\n",
        "\n",
        "  def calculate_new_state(self, action):\n",
        "    if action == 0:\n",
        "      new_state = (self.current_user_loc[0] - 1, self.current_user_loc[1])\n",
        "    elif action == 1:\n",
        "      new_state = (self.current_user_loc[0], self.current_user_loc[1] + 1)\n",
        "    elif action == 2:\n",
        "      new_state = (self.current_user_loc[0] + 1, self.current_user_loc[1])\n",
        "    elif action == 3:\n",
        "      new_state = (self.current_user_loc[0], self.current_user_loc[1] - 1)\n",
        "    else:\n",
        "      raise ValueError(\"Action must be 0, 1, 2, or 3\")\n",
        "    return new_state\n",
        "\n",
        "  def is_wall(self, location):\n",
        "    return self.grid[location[0]][location[1]] == \"WALL\"\n",
        "  \n",
        "  def goal_colocation(self):\n",
        "    return self.current_user_loc == self.current_goal_loc\n",
        "\n",
        "  def move_user(self, current_location, new_location):\n",
        "    assert self.grid[current_location[0]][current_location[1]] == self.user_space, \"{} vs. {}\".format(self.grid[current_location[0]][current_location[1]], self.user_space)\n",
        "    self.grid[new_location[0]][new_location[1]] = self.user_space\n",
        "    self.grid[current_location[0]][current_location[1]] = self.blank_space\n",
        "    self.current_user_loc = (new_location[0], new_location[1])\n",
        "\n",
        "  def move_goal(self, current_location, new_location):\n",
        "    assert self.grid[current_location[0]][current_location[1]] == self.goal_space\n",
        "    self.grid[new_location[0]][new_location[1]] = self.goal_space\n",
        "    self.grid[current_location[0]][current_location[1]] = self.blank_space\n",
        "    self.current_goal_loc = (new_location[0], new_location[1])\n",
        "\n",
        "  def calculate_reward(self, achieved_goal, desired_goal, info):\n",
        "    if (achieved_goal == desired_goal).all():\n",
        "      reward = self.positive_reward\n",
        "    else:\n",
        "      reward = self.negative_reward\n",
        "    return reward\n",
        "\n",
        "  def render(self):\n",
        "    for row in range(len(self.grid)):\n",
        "      print(self.grid[row])\n",
        "\n",
        "  # Visualize the current grid with matplotlib \n",
        "  def visualize(self):\n",
        "    copied_grid = copy.deepcopy(self.grid)\n",
        "    for row in range(self.grid_height):\n",
        "      for col in range(self.grid_width):\n",
        "        if copied_grid[row][col] == self.wall_space:\n",
        "          copied_grid[row][col] = -100\n",
        "        elif copied_grid[row][col] == self.blank_space:\n",
        "          copied_grid[row][col] = 0\n",
        "        elif copied_grid[row][col] == self.user_space:\n",
        "          copied_grid[row][col] = 10\n",
        "        elif copied_grid[row][col] == self.goal_space:\n",
        "          copied_grid[row][col] = 20\n",
        "        else:\n",
        "          raise ValueError(\"Invalid value.\")\n",
        "    copied_grid = np.array(copied_grid)\n",
        "    cmap = plt.colors.ListedColormap([\"black\", \"white\", \"blue\", \"red\"])\n",
        "    bounds = [-101, -1, 1, 11, 21]\n",
        "    norm = plt.colors.BoundaryNorm(bounds, cmap.N)\n",
        "    pyplot.imshow(copied_grid, interpolation='nearest', cmap=cmap, norm=norm)\n",
        "    print(\"Black = Wall, White = Empty, Blue = User, Red = Goal\")\n",
        "    pyplot.show()"
      ],
      "execution_count": 4,
      "outputs": []
    },
    {
      "cell_type": "markdown",
      "metadata": {
        "id": "mv24ap6culqL"
      },
      "source": [
        "### Test the environment\n",
        "Run this to get visualizations only after running experiments to prevent conflicts."
      ]
    },
    {
      "cell_type": "code",
      "metadata": {
        "id": "ftN3TzRNh0JS",
        "colab": {
          "base_uri": "https://localhost:8080/"
        },
        "outputId": "f5bbea82-4028-456e-9460-3f8a309900bb"
      },
      "source": [
        "env_4r = Four_Rooms_Env()\n",
        "env_4r.reset()"
      ],
      "execution_count": 5,
      "outputs": [
        {
          "output_type": "execute_result",
          "data": {
            "text/plain": [
              "{'achieved_goal': array([40]),\n",
              " 'desired_goal': array([171]),\n",
              " 'observation': array([40])}"
            ]
          },
          "metadata": {
            "tags": []
          },
          "execution_count": 5
        }
      ]
    },
    {
      "cell_type": "code",
      "metadata": {
        "id": "8b5kVHgttqNP",
        "colab": {
          "base_uri": "https://localhost:8080/"
        },
        "outputId": "17491866-7e6c-49f0-a2b4-b0e190f39b6d"
      },
      "source": [
        "env_4r.observation_space"
      ],
      "execution_count": 6,
      "outputs": [
        {
          "output_type": "execute_result",
          "data": {
            "text/plain": [
              "Dict(achieved_goal:Box(0.0, 225.0, (1,), float32), desired_goal:Box(0.0, 225.0, (1,), float32), observation:Box(0.0, 225.0, (1,), float32))"
            ]
          },
          "metadata": {
            "tags": []
          },
          "execution_count": 6
        }
      ]
    },
    {
      "cell_type": "code",
      "metadata": {
        "id": "3b2cojcltaNE",
        "colab": {
          "base_uri": "https://localhost:8080/"
        },
        "outputId": "c09153d8-169a-4829-b601-a003b182e3f2"
      },
      "source": [
        "env_4r.action_space"
      ],
      "execution_count": 7,
      "outputs": [
        {
          "output_type": "execute_result",
          "data": {
            "text/plain": [
              "Discrete(4)"
            ]
          },
          "metadata": {
            "tags": []
          },
          "execution_count": 7
        }
      ]
    },
    {
      "cell_type": "code",
      "metadata": {
        "id": "wPY943IOtr3Z",
        "colab": {
          "base_uri": "https://localhost:8080/"
        },
        "outputId": "55456d8e-757e-4068-80f3-c4ba14d15eb8"
      },
      "source": [
        "print(\"Number of possible states:\", env_4r.num_possible_states)\n",
        "print(\"Positive reward for achieving goal:\", env_4r.positive_reward)\n",
        "print(\"Negative reward for not achieving goal:\", env_4r.negative_reward)\n",
        "print(\"Maximum steps for an episode:\", env_4r.max_episode_steps)"
      ],
      "execution_count": 8,
      "outputs": [
        {
          "output_type": "stream",
          "text": [
            "Number of possible states: 225\n",
            "Positive reward for achieving goal: 90.0\n",
            "Negative reward for not achieving goal: -1.0\n",
            "Maximum steps for an episode: 90.0\n"
          ],
          "name": "stdout"
        }
      ]
    },
    {
      "cell_type": "code",
      "metadata": {
        "id": "ROCAug9vu32k"
      },
      "source": [
        "done = False\n",
        "while not done:\n",
        "    a = env_4r.action_space.sample()\n",
        "    obs, reward, done, _ = env_4r.step(a)"
      ],
      "execution_count": 9,
      "outputs": []
    },
    {
      "cell_type": "code",
      "metadata": {
        "id": "D7O7y35Cw58V",
        "colab": {
          "base_uri": "https://localhost:8080/",
          "height": 282
        },
        "outputId": "77257d8e-fa2d-4b9b-9143-b594b2b4829c"
      },
      "source": [
        "env_4r.visualize()"
      ],
      "execution_count": 10,
      "outputs": [
        {
          "output_type": "stream",
          "text": [
            "Black = Wall, White = Empty, Blue = User, Red = Goal\n"
          ],
          "name": "stdout"
        },
        {
          "output_type": "display_data",
          "data": {
            "image/png": "[encoded data removed]",
            "text/plain": [
              "<Figure size 432x288 with 1 Axes>"
            ]
          },
          "metadata": {
            "tags": [],
            "needs_background": "light"
          }
        }
      ]
    },
    {
      "cell_type": "code",
      "metadata": {
        "id": "XEnozO5K_2IU",
        "colab": {
          "base_uri": "https://localhost:8080/"
        },
        "outputId": "fc234919-9807-4ea6-cfdd-2a256e6a310f"
      },
      "source": [
        "# Check some global shapes to use for the NN\n",
        "obs_arr = np.array([[key,val] for (key,val) in obs.items()])\n",
        "fr_input_shape = obs_arr.shape\n",
        "fr_nactions = env_4r.action_space.n\n",
        "print(fr_input_shape)\n",
        "print(fr_nactions)"
      ],
      "execution_count": 11,
      "outputs": [
        {
          "output_type": "stream",
          "text": [
            "(3, 2)\n",
            "4\n"
          ],
          "name": "stdout"
        },
        {
          "output_type": "stream",
          "text": [
            "/usr/local/lib/python3.7/dist-packages/ipykernel_launcher.py:2: VisibleDeprecationWarning: Creating an ndarray from ragged nested sequences (which is a list-or-tuple of lists-or-tuples-or ndarrays with different lengths or shapes) is deprecated. If you meant to do this, you must specify 'dtype=object' when creating the ndarray\n",
            "  \n"
          ],
          "name": "stderr"
        }
      ]
    },
    {
      "cell_type": "markdown",
      "metadata": {
        "id": "gF_6P0Tjqdnz"
      },
      "source": [
        "## CraftingWorld environment\n",
        "\n",
        "A custom crafting environment described in this [paper](https://papers.nips.cc/paper/2019/file/00989c20ff1386dc386d8124ebcba1a5-Paper.pdf). The base environment can be imported via a pip [package]((https://gym-craftingworld.readthedocs.io/en/latest/envs/gen_info.html#)), arguments can be easily customized and the new environment can be easily registered."
      ]
    },
    {
      "cell_type": "markdown",
      "metadata": {
        "id": "5Mmu9H0lxmHU"
      },
      "source": [
        "### Customize the environment\n",
        "\n",
        "Create a custom sparse environment by limiting the tasks that can grant extrinsic rewards."
      ]
    },
    {
      "cell_type": "code",
      "metadata": {
        "id": "DpFW0DOiqjOR",
        "colab": {
          "base_uri": "https://localhost:8080/"
        },
        "outputId": "cb790ee8-28be-4324-acc7-7e976a1813a9"
      },
      "source": [
        "!pip install gym-craftingworld\n",
        "import gym_craftingworld"
      ],
      "execution_count": 12,
      "outputs": [
        {
          "output_type": "stream",
          "text": [
            "Collecting gym-craftingworld\n",
            "  Downloading https://files.pythonhosted.org/packages/bb/5d/5d74c065e88e0dc694c4abde2c8b6e1e5ba035d0d06dd991cfbc8308bace/gym_craftingworld-0.1.7.11-py3-none-any.whl\n",
            "Requirement already satisfied: numpy in /usr/local/lib/python3.7/dist-packages (from gym-craftingworld) (1.19.5)\n",
            "Requirement already satisfied: pillow in /usr/local/lib/python3.7/dist-packages (from gym-craftingworld) (7.1.2)\n",
            "Requirement already satisfied: matplotlib in /usr/local/lib/python3.7/dist-packages (from gym-craftingworld) (3.2.2)\n",
            "Requirement already satisfied: gym in /usr/local/lib/python3.7/dist-packages (from gym-craftingworld) (0.17.3)\n",
            "Requirement already satisfied: python-dateutil>=2.1 in /usr/local/lib/python3.7/dist-packages (from matplotlib->gym-craftingworld) (2.8.1)\n",
            "Requirement already satisfied: cycler>=0.10 in /usr/local/lib/python3.7/dist-packages (from matplotlib->gym-craftingworld) (0.10.0)\n",
            "Requirement already satisfied: kiwisolver>=1.0.1 in /usr/local/lib/python3.7/dist-packages (from matplotlib->gym-craftingworld) (1.3.1)\n",
            "Requirement already satisfied: pyparsing!=2.0.4,!=2.1.2,!=2.1.6,>=2.0.1 in /usr/local/lib/python3.7/dist-packages (from matplotlib->gym-craftingworld) (2.4.7)\n",
            "Requirement already satisfied: pyglet<=1.5.0,>=1.4.0 in /usr/local/lib/python3.7/dist-packages (from gym->gym-craftingworld) (1.5.0)\n",
            "Requirement already satisfied: cloudpickle<1.7.0,>=1.2.0 in /usr/local/lib/python3.7/dist-packages (from gym->gym-craftingworld) (1.3.0)\n",
            "Requirement already satisfied: scipy in /usr/local/lib/python3.7/dist-packages (from gym->gym-craftingworld) (1.4.1)\n",
            "Requirement already satisfied: six>=1.5 in /usr/local/lib/python3.7/dist-packages (from python-dateutil>=2.1->matplotlib->gym-craftingworld) (1.15.0)\n",
            "Requirement already satisfied: future in /usr/local/lib/python3.7/dist-packages (from pyglet<=1.5.0,>=1.4.0->gym->gym-craftingworld) (0.16.0)\n",
            "Installing collected packages: gym-craftingworld\n",
            "Successfully installed gym-craftingworld-0.1.7.11\n"
          ],
          "name": "stdout"
        }
      ]
    },
    {
      "cell_type": "markdown",
      "metadata": {
        "id": "Iz1i-XtY09mg"
      },
      "source": [
        "**List of objects:**\n",
        "- *sticks:* pickable\n",
        "- *axe:* pickable\n",
        "- *hammer:* pickable\n",
        "- *rock:* blocking\n",
        "- *tree:* blocking\n",
        "- *bread*\n",
        "- *house*\n",
        "- *wheat*\n",
        "\n",
        "**List of tasks:**\n",
        "- *MoveAxe:* successfully pick up and drop axe\n",
        "- *MoveHammer:* successfully pick up and drop hammer\n",
        "- *MoveSticks:* successfully pick up and drop sticks\n",
        "- *ChopRock:* pick up a hammer and destroys the rock\n",
        "- *MakeBread:* brings the axe to the wheat which transforms it into bread\n",
        "- *ChopTree:* pick up the axe and bring it to the tree, which transforms the tree into logs (sticks)\n",
        "- *BuildHouse:* pick up the hammer and brings it to logs (sticks) to transform them into a house\n",
        "- *EatBread:* eat bread if it lands on a state that contains bread\n",
        "- *GoToHouse:* go to house if it lands on a state that contains house"
      ]
    },
    {
      "cell_type": "code",
      "metadata": {
        "id": "1EeMup6m048_"
      },
      "source": [
        "# Customize a sparse environment\n",
        "register(id='craftingworldSparseEnv-v0',\n",
        "         entry_point='gym_craftingworld.envs:CraftingWorldEnv',\n",
        "         kwargs={# size of the grid world\n",
        "                 'size' : (10, 10),\n",
        "                 # maximum steps per episode\n",
        "                 'max_steps': 90,\n",
        "                 # a fixed list of tasks for the agent to achieve\n",
        "                 'fixed_goal' : ['MakeBread','BuildHouse','EatBread','GoToHouse'], \n",
        "                 # a list of tasks to ignore when calculating reward\n",
        "                 'tasks_to_ignore' : ['ChopTree','ChopRock','MoveAxe','MoveHammer','MoveSticks']\n",
        "                }\n",
        "         )"
      ],
      "execution_count": 13,
      "outputs": []
    },
    {
      "cell_type": "markdown",
      "metadata": {
        "id": "h4phZtxwxuLj"
      },
      "source": [
        "### Test the environment\n",
        "\n",
        "Run this to get visualizations only after running experiments to prevent conflicts."
      ]
    },
    {
      "cell_type": "code",
      "metadata": {
        "id": "Z7VJm6ITU-49"
      },
      "source": [
        "env_craft = gym.make('craftingworldSparseEnv-v0')"
      ],
      "execution_count": 14,
      "outputs": []
    },
    {
      "cell_type": "code",
      "metadata": {
        "id": "cyA-fpJt1Bk0",
        "colab": {
          "base_uri": "https://localhost:8080/"
        },
        "outputId": "469e87d8-bf0f-4c42-f701-146b390ed16c"
      },
      "source": [
        "# Only include the fixed goals\n",
        "env_craft.task_list"
      ],
      "execution_count": 15,
      "outputs": [
        {
          "output_type": "execute_result",
          "data": {
            "text/plain": [
              "['MakeBread', 'EatBread', 'BuildHouse', 'GoToHouse']"
            ]
          },
          "metadata": {
            "tags": []
          },
          "execution_count": 15
        }
      ]
    },
    {
      "cell_type": "code",
      "metadata": {
        "id": "KrNUKepF1D7V",
        "colab": {
          "base_uri": "https://localhost:8080/",
          "height": 323
        },
        "outputId": "8bcc05f6-1993-4377-bb7e-edef7b271be6"
      },
      "source": [
        "# Store .gif\n",
        "env_craft.allow_gif_storage()\n",
        "# Reset environment and render .gif within notebook\n",
        "env_craft.reset()"
      ],
      "execution_count": 16,
      "outputs": [
        {
          "output_type": "display_data",
          "data": {
            "image/png": "[encoded data removed]",
            "text/plain": [
              "<Figure size 432x288 with 1 Axes>"
            ]
          },
          "metadata": {
            "tags": []
          }
        }
      ]
    },
    {
      "cell_type": "code",
      "metadata": {
        "id": "NBxvwJgR1FwZ",
        "colab": {
          "base_uri": "https://localhost:8080/"
        },
        "outputId": "3a82870c-1a0e-4e75-b088-e028d06d8865"
      },
      "source": [
        "env_craft.observation_space"
      ],
      "execution_count": 17,
      "outputs": [
        {
          "output_type": "execute_result",
          "data": {
            "text/plain": [
              "Dict(achieved_goal:Box(0, 1, (1, 4), int64), desired_goal:Box(0, 1, (1, 4), int64), observation:Box(0, 1, (10, 10, 12), int64))"
            ]
          },
          "metadata": {
            "tags": []
          },
          "execution_count": 17
        }
      ]
    },
    {
      "cell_type": "code",
      "metadata": {
        "id": "F9TTVRex1IB4",
        "colab": {
          "base_uri": "https://localhost:8080/"
        },
        "outputId": "b593cd41-75f5-46fe-860f-64926d428697"
      },
      "source": [
        "env_craft.action_space"
      ],
      "execution_count": 18,
      "outputs": [
        {
          "output_type": "execute_result",
          "data": {
            "text/plain": [
              "Discrete(6)"
            ]
          },
          "metadata": {
            "tags": []
          },
          "execution_count": 18
        }
      ]
    },
    {
      "cell_type": "markdown",
      "metadata": {
        "id": "Tl_BjSrb2NE4"
      },
      "source": [
        "**List of actions:**\n",
        "- *up* = 0\n",
        "- *right* = 1\n",
        "- *down* = 2\n",
        "- *left* = 3\n",
        "- *pickup* = 4\n",
        "- *drop* = 5"
      ]
    },
    {
      "cell_type": "code",
      "metadata": {
        "id": "nm5nGHBP1JyO",
        "colab": {
          "base_uri": "https://localhost:8080/",
          "height": 323
        },
        "outputId": "b776de4f-fdab-4154-b930-41e24e507523"
      },
      "source": [
        "done = False\n",
        "while not done:\n",
        "    a = env_craft.action_space.sample()\n",
        "    obs, extrinsic_reward, done, info = env_craft.step(a)"
      ],
      "execution_count": 19,
      "outputs": [
        {
          "output_type": "display_data",
          "data": {
            "image/png": "[encoded data removed]",
            "text/plain": [
              "<Figure size 432x288 with 1 Axes>"
            ]
          },
          "metadata": {
            "tags": []
          }
        }
      ]
    },
    {
      "cell_type": "code",
      "metadata": {
        "id": "8FpeLwo81QMC",
        "colab": {
          "base_uri": "https://localhost:8080/"
        },
        "outputId": "14868f7f-ea0a-4f75-9e12-46e1dc03fe41"
      },
      "source": [
        "# Render the environment and print observation\n",
        "obs"
      ],
      "execution_count": 20,
      "outputs": [
        {
          "output_type": "execute_result",
          "data": {
            "text/plain": [
              "{'achieved_goal': array([[0, 0, 0, 0]]),\n",
              " 'desired_goal': array([[1, 1, 1, 1]]),\n",
              " 'observation': array([[[0, 0, 0, ..., 0, 0, 0],\n",
              "         [0, 0, 0, ..., 0, 0, 0],\n",
              "         [0, 0, 0, ..., 0, 0, 0],\n",
              "         ...,\n",
              "         [0, 0, 0, ..., 0, 0, 0],\n",
              "         [0, 0, 0, ..., 0, 0, 0],\n",
              "         [0, 0, 0, ..., 0, 0, 0]],\n",
              " \n",
              "        [[0, 0, 0, ..., 0, 0, 0],\n",
              "         [0, 0, 0, ..., 0, 0, 0],\n",
              "         [0, 0, 0, ..., 0, 0, 0],\n",
              "         ...,\n",
              "         [0, 0, 0, ..., 0, 0, 0],\n",
              "         [0, 0, 0, ..., 0, 0, 0],\n",
              "         [0, 0, 0, ..., 0, 0, 0]],\n",
              " \n",
              "        [[0, 0, 0, ..., 0, 0, 0],\n",
              "         [0, 0, 0, ..., 0, 0, 0],\n",
              "         [0, 0, 0, ..., 0, 0, 0],\n",
              "         ...,\n",
              "         [0, 0, 0, ..., 0, 0, 0],\n",
              "         [0, 0, 0, ..., 0, 0, 0],\n",
              "         [0, 0, 0, ..., 0, 0, 0]],\n",
              " \n",
              "        ...,\n",
              " \n",
              "        [[0, 0, 0, ..., 0, 0, 0],\n",
              "         [0, 0, 0, ..., 0, 0, 0],\n",
              "         [0, 0, 0, ..., 0, 0, 0],\n",
              "         ...,\n",
              "         [0, 0, 0, ..., 0, 0, 0],\n",
              "         [0, 0, 0, ..., 0, 0, 0],\n",
              "         [0, 0, 0, ..., 0, 0, 0]],\n",
              " \n",
              "        [[0, 0, 0, ..., 0, 0, 0],\n",
              "         [0, 0, 0, ..., 0, 0, 0],\n",
              "         [0, 0, 0, ..., 0, 0, 0],\n",
              "         ...,\n",
              "         [0, 0, 0, ..., 0, 0, 0],\n",
              "         [0, 0, 0, ..., 0, 0, 0],\n",
              "         [0, 0, 0, ..., 0, 0, 0]],\n",
              " \n",
              "        [[0, 0, 0, ..., 0, 0, 0],\n",
              "         [0, 0, 0, ..., 0, 0, 0],\n",
              "         [0, 0, 0, ..., 0, 0, 0],\n",
              "         ...,\n",
              "         [0, 0, 0, ..., 0, 0, 0],\n",
              "         [0, 0, 0, ..., 0, 0, 0],\n",
              "         [0, 0, 0, ..., 0, 0, 0]]])}"
            ]
          },
          "metadata": {
            "tags": []
          },
          "execution_count": 20
        }
      ]
    },
    {
      "cell_type": "code",
      "metadata": {
        "id": "JP7_iIJv2e__",
        "colab": {
          "base_uri": "https://localhost:8080/"
        },
        "outputId": "c7aecd09-be13-4108-fcd0-39da03fadf8d"
      },
      "source": [
        "print(\"Reward: \", extrinsic_reward)\n",
        "print(\"Done: \", done)"
      ],
      "execution_count": 21,
      "outputs": [
        {
          "output_type": "stream",
          "text": [
            "Reward:  -4\n",
            "Done:  True\n"
          ],
          "name": "stdout"
        }
      ]
    },
    {
      "cell_type": "code",
      "metadata": {
        "id": "04f8N6LD1TZV",
        "colab": {
          "base_uri": "https://localhost:8080/"
        },
        "outputId": "9e82b4d1-0d09-4297-eb49-166367c20d96"
      },
      "source": [
        "# Check some global shapes to use for the NN\n",
        "obs_arr = np.array([[key,val] for (key,val) in obs.items()])\n",
        "crafting_input_shape = obs_arr.shape\n",
        "crafting_nactions = env_craft.action_space.n\n",
        "print(crafting_input_shape)\n",
        "print(crafting_nactions)"
      ],
      "execution_count": 22,
      "outputs": [
        {
          "output_type": "stream",
          "text": [
            "(3, 2)\n",
            "6\n"
          ],
          "name": "stdout"
        },
        {
          "output_type": "stream",
          "text": [
            "/usr/local/lib/python3.7/dist-packages/ipykernel_launcher.py:2: VisibleDeprecationWarning: Creating an ndarray from ragged nested sequences (which is a list-or-tuple of lists-or-tuples-or ndarrays with different lengths or shapes) is deprecated. If you meant to do this, you must specify 'dtype=object' when creating the ndarray\n",
            "  \n"
          ],
          "name": "stderr"
        }
      ]
    },
    {
      "cell_type": "markdown",
      "metadata": {
        "id": "mpQvpWwaSs_v"
      },
      "source": [
        "### Extra functions"
      ]
    },
    {
      "cell_type": "code",
      "metadata": {
        "id": "hl4ElNX5ciiN"
      },
      "source": [
        "OBJECTS = ['sticks','axe','hammer','rock','tree','bread','house','wheat']\n",
        "TASK_LIST = ['MakeBread','EatBread','BuildHouse','ChopTree','ChopRock','GoToHouse','MoveAxe','MoveHammer','MoveSticks']"
      ],
      "execution_count": 23,
      "outputs": []
    },
    {
      "cell_type": "code",
      "metadata": {
        "id": "RNOcjlRQ1MRQ"
      },
      "source": [
        "# Functions to get a list of achieved/not achieved task\n",
        "def check_tasks(env, achieved):\n",
        "  results = []\n",
        "  for task, done in env.eval_tasks().items():  \n",
        "    if done == achieved:\n",
        "      results.append(task)\n",
        "  return results"
      ],
      "execution_count": 24,
      "outputs": []
    },
    {
      "cell_type": "code",
      "metadata": {
        "id": "46wlPz2p2cOF"
      },
      "source": [
        "# Return the tasks done at a certain observation\n",
        "def check_tasks_done(env, obs):\n",
        "  done_tasks = []\n",
        "  for item in check_tasks(env, 1):\n",
        "    if item == 'MakeBread':\n",
        "      done_tasks.append(0)\n",
        "    elif item == 'EatBread':\n",
        "      done_tasks.append(1)\n",
        "    elif item == 'BuildHouse':\n",
        "      done_tasks.append(2)\n",
        "    elif item == 'ChopTree':\n",
        "      done_tasks.append(3)\n",
        "    elif item == 'ChopRock':\n",
        "      done_tasks.append(4)\n",
        "    elif item == 'GoToHouse':\n",
        "      done_tasks.append(5)\n",
        "    elif item == 'MoveAxe':\n",
        "      done_tasks.append(6)\n",
        "    elif item == 'MoveHammer':\n",
        "      done_tasks.append(7)\n",
        "    elif item == 'MoveSticks':\n",
        "      done_tasks.append(8)\n",
        "  return done_tasks"
      ],
      "execution_count": 25,
      "outputs": []
    },
    {
      "cell_type": "code",
      "metadata": {
        "id": "VIFGqwefqFTo"
      },
      "source": [
        "def convert_obj_loc(env, obs_arr, i):\n",
        "  obj_loc = np.array(env.get_objects(i, obs_arr[0, 1]))\n",
        "  if obj_loc.size != 0:\n",
        "    obj_loc = obj_loc[0]\n",
        "  else:\n",
        "    obj_loc = [0,0]\n",
        "  return obj_loc[0], obj_loc[1]"
      ],
      "execution_count": 26,
      "outputs": []
    },
    {
      "cell_type": "code",
      "metadata": {
        "id": "kMKdqIeadm90"
      },
      "source": [
        "# Return the type of object colocated with user\n",
        "def check_colocated_objects(env, obs):\n",
        "  obs_arr = np.array([[key,val] for (key,val) in obs.items()])\n",
        "  row = env.agent_pos.row\n",
        "  col = env.agent_pos.col\n",
        "  obj_ids = []\n",
        "  for i in range(7):\n",
        "    obj_row, obj_col = convert_obj_loc(env, obs_arr, i)\n",
        "    if obj_row == row and obj_col == env.agent_pos.col:\n",
        "      obj_ids.append(i)\n",
        "  return obj_ids"
      ],
      "execution_count": 27,
      "outputs": []
    },
    {
      "cell_type": "markdown",
      "metadata": {
        "id": "_mycEsL19mCJ"
      },
      "source": [
        "# Agents \n",
        "\n",
        "**References:** \n",
        "- https://github.com/transedward/pytorch-hdqn/tree/master/agents\n",
        "- https://github.com/skumar9876/Hierarchical-DQN/blob/master/hierarchical_dqn.py\n",
        "\n",
        "**Modifications:** \n",
        "- Re-write the learning algos to make them work with the high-dimensional, non-numerical obs space of custom envs\n",
        "- Add comments for re-used components (utils and NN modules without modifications)\n",
        "- Define proper states and/or subgoals of custom environments \n",
        "- Modify the construction of state, meta-state, subgoal and primitive actions for h-DQN controllers\n",
        "- Reimplement and add more visual plots"
      ]
    },
    {
      "cell_type": "markdown",
      "metadata": {
        "id": "Nb3L-EncthpL"
      },
      "source": [
        "## Q-learning"
      ]
    },
    {
      "cell_type": "markdown",
      "metadata": {
        "id": "5wT1UnUPDszQ"
      },
      "source": [
        "### Epsilon-Greedy policy\n",
        "\n",
        "Epsilon-Greedy is a simple method to balance exploration and exploitation by choosing between exploration and exploitation randomly. The epsilon-greedy, where epsilon refers to the probability of choosing to explore, exploits most of the time with a small chance of exploring."
      ]
    },
    {
      "cell_type": "code",
      "metadata": {
        "id": "pzSIxo1m5Hi7"
      },
      "source": [
        "# Return a function that takes a state and returns the probabilities for each action as an array\n",
        "def epsilon_greedy_policy(Q, epsilon, num_actions):\n",
        "  def policy_fn(state):\n",
        "    probs = (epsilon / num_actions) * np.ones(num_actions) # 1 / epsilon for non-greedy actions\n",
        "    greedy_action = Q[state].argmax()\n",
        "    probs[greedy_action] += 1.0 - epsilon # (1 / epsilon + (1 - epsilon)) for greedy action\n",
        "    return probs\n",
        "  return policy_fn"
      ],
      "execution_count": 12,
      "outputs": []
    },
    {
      "cell_type": "code",
      "metadata": {
        "id": "Qxb-3rz14aXM"
      },
      "source": [
        "# Schedule for probability of chosing random action\n",
        "class ExplorationSchedule(object):\n",
        "  def __init__(self, schedule_timesteps, final_p, initial_p=1.0):\n",
        "    self.schedule_timesteps = schedule_timesteps\n",
        "    self.final_p = final_p\n",
        "    self.initial_p = initial_p\n",
        "\n",
        "  def value(self, t):\n",
        "    fraction  = min(float(t) / self.schedule_timesteps, 1.0)\n",
        "    return self.initial_p + fraction * (self.final_p - self.initial_p)"
      ],
      "execution_count": 13,
      "outputs": []
    },
    {
      "cell_type": "markdown",
      "metadata": {
        "id": "ktWSzAtO61HG"
      },
      "source": [
        "### Q-learning algorithm"
      ]
    },
    {
      "cell_type": "code",
      "metadata": {
        "id": "QR1nqcZf46Dr"
      },
      "source": [
        "EpisodeStats = namedtuple(\"Stats\",[\"episode_lengths\", \"episode_rewards\"])"
      ],
      "execution_count": 14,
      "outputs": []
    },
    {
      "cell_type": "code",
      "metadata": {
        "id": "oi3xGOe85V0b"
      },
      "source": [
        "# Return a tuple including optimal Q (dict of action-value), stats (EpisodeStats object), visits (2D array), tasks (2D array)\n",
        "def q_learning(env_name, num_episodes, \n",
        "               discount_factor=0.99, lr=0.00025, \n",
        "               exploration_schedule=ExplorationSchedule(50000, 0.1, 1.0)):\n",
        "  \n",
        "  n_hundred_episode = int(np.floor(num_episodes / 100)) \n",
        "  total_timestep = 0\n",
        "  \n",
        "  if env_name == 'FourRooms':\n",
        "    env = Four_Rooms_Env()\n",
        "    # State = location on grid\n",
        "    visits = np.zeros((n_hundred_episode, env.num_possible_states))\n",
        "    tasks = np.zeros((n_hundred_episode, 0))\n",
        "  elif env_name == 'CraftingWorld':\n",
        "    env = gym.make('craftingworldSparseEnv-v0')\n",
        "    # State = type of co-located object \n",
        "    visits = np.zeros((n_hundred_episode, 9))\n",
        "    tasks = np.zeros((n_hundred_episode, 9))\n",
        "\n",
        "  # Keep track of useful statistics\n",
        "  stats = EpisodeStats(episode_lengths=np.zeros(num_episodes),\n",
        "                       episode_rewards=np.zeros(num_episodes))\n",
        "  \n",
        "  # A nested dictionary that maps state -> (action -> action-value)\n",
        "  Q = defaultdict(lambda: np.zeros(env.action_space.n))\n",
        "\n",
        "  for i_hundred_episode in range(n_hundred_episode):\n",
        "    for i_episode in range(100): \n",
        "      \n",
        "      if env_name == 'FourRooms':\n",
        "        env.reset()\n",
        "        current_state = env.location_to_state(env.current_user_loc)\n",
        "        visits[i_hundred_episode][current_state] += 1\n",
        "      elif env_name == 'CraftingWorld':\n",
        "        env.reset()\n",
        "        # Remember to minus col (y) value by 1 to get the starting agent_pos\n",
        "        # Actually, not that important, only for plotting\n",
        "        obs, _, _, _ = env.step(0)\n",
        "\n",
        "        current_states = check_colocated_objects(env, obs)\n",
        "        if len(current_states) > 0:\n",
        "          current_state = current_states[0]\n",
        "          for s in current_states:\n",
        "            visits[i_hundred_episode][s] += 1\n",
        "        else:\n",
        "          visits[i_hundred_episode][8] += 1\n",
        "          current_state = 8 \n",
        "\n",
        "        current_tasks = check_tasks_done(env, obs)\n",
        "        if len(current_tasks) > 0:\n",
        "          for g in current_tasks:\n",
        "            tasks[i_hundred_episode][g] += 1\n",
        "\n",
        "      for t in itertools.count():\n",
        "        # Keep track number of time-step per episode only for plotting\n",
        "        total_timestep += 1\n",
        "        # Get epislon from exploration schedule\n",
        "        epsilon = exploration_schedule.value(total_timestep)\n",
        "        # Improve epsilon greedy policy using latest updated Q\n",
        "        policy = epsilon_greedy_policy(Q, epsilon, env.action_space.n)\n",
        "\n",
        "        # Choose the action based on epsilon greedy policy\n",
        "        action_probs = policy(current_state)\n",
        "        action = np.random.choice(np.arange(len(action_probs)), p=action_probs)\n",
        "        \n",
        "        # Step the environment\n",
        "        if env_name == 'FourRooms':\n",
        "          obs, reward, done, _ = env.step(action) \n",
        "          next_state = env.location_to_state(env.current_user_loc)\n",
        "          visits[i_hundred_episode][next_state] += 1\n",
        "        elif env_name == 'CraftingWorld':\n",
        "          obs, reward, done, _ = env.step(action) \n",
        "\n",
        "          next_states = check_colocated_objects(env, obs)\n",
        "          if len(next_states) > 0:\n",
        "            next_state = next_states[0]\n",
        "            for s in next_states:\n",
        "              visits[i_hundred_episode][s] += 1\n",
        "          else:\n",
        "            visits[i_hundred_episode][8] += 1\n",
        "            next_state = 8 \n",
        "\n",
        "          next_tasks = check_tasks_done(env, obs)\n",
        "          if len(next_tasks) > 0:\n",
        "            for g in next_tasks:\n",
        "              tasks[i_hundred_episode][g] += 1\n",
        "\n",
        "        # Evaluate Q using estimated action value of (next_state, greedy_next_action)\n",
        "        greedy_next_action = Q[next_state].argmax()\n",
        "        td_target = reward + discount_factor * Q[next_state][greedy_next_action]\n",
        "        td_error = td_target - Q[current_state][action]\n",
        "        Q[current_state][action] += lr * td_error\n",
        "\n",
        "        # Update statistics\n",
        "        stats.episode_rewards[i_hundred_episode*100 + i_episode] += reward \n",
        "        stats.episode_lengths[i_hundred_episode*100 + i_episode] = t \n",
        "\n",
        "        if done:\n",
        "          break\n",
        "        else:\n",
        "          current_state = next_state\n",
        "\n",
        "  return Q, stats, visits, tasks"
      ],
      "execution_count": 15,
      "outputs": []
    },
    {
      "cell_type": "markdown",
      "metadata": {
        "id": "8ElFyIH4Hpxd"
      },
      "source": [
        "## h-DQN"
      ]
    },
    {
      "cell_type": "markdown",
      "metadata": {
        "id": "BPYnvPXUtdwm"
      },
      "source": [
        "### Replay buffer\n",
        "\n",
        "Used to store trajectories of experience when executing a policy in an environment. "
      ]
    },
    {
      "cell_type": "code",
      "metadata": {
        "id": "LIBbsPqD7zWW"
      },
      "source": [
        "Transition = namedtuple('Transition',('state', 'action', 'next_state', 'reward', 'done'))"
      ],
      "execution_count": 16,
      "outputs": []
    },
    {
      "cell_type": "code",
      "metadata": {
        "id": "zgH97_MAqtnD"
      },
      "source": [
        "class ReplayBuffer(object):\n",
        "  def __init__(self, capacity):\n",
        "    self.capacity = capacity\n",
        "    self.memory = []\n",
        "    self.position = 0\n",
        "\n",
        "  def store_transition(self, *args):\n",
        "    if len(self.memory) < self.capacity:\n",
        "      self.memory.append(None)\n",
        "    self.memory[self.position] = Transition(*args)\n",
        "    self.position = (self.position + 1) % self.capacity\n",
        "\n",
        "  def sample(self, batch_size):\n",
        "    state_batch, goal_batch, next_state_batch, ex_reward_batch, done_mask = zip(*random.sample(self.memory, batch_size))\n",
        "    state_batch = np.concatenate(state_batch, axis=0)\n",
        "    goal_batch = np.array(goal_batch)\n",
        "    next_state_batch = np.concatenate(next_state_batch, axis=0)\n",
        "    ex_reward_batch = np.array(ex_reward_batch)\n",
        "    done_mask = np.array(done_mask)\n",
        "    return state_batch, goal_batch, next_state_batch, ex_reward_batch, done_mask\n",
        "\n",
        "  def __len__(self):\n",
        "    return len(self.memory)"
      ],
      "execution_count": 17,
      "outputs": []
    },
    {
      "cell_type": "markdown",
      "metadata": {
        "id": "mrXycHJJGKhU"
      },
      "source": [
        "### Construct the controller and meta-controller"
      ]
    },
    {
      "cell_type": "markdown",
      "metadata": {
        "id": "oCbsGrtpF9Xw"
      },
      "source": [
        "- *in_features:* number of features of input e.g. number of possible subgoals for the meta-controller or number of possible primitive actions for the controller\n",
        "- *out_features:* number of features of output e.g. desired subgoal for meta-controller or desired primitive action for controller"
      ]
    },
    {
      "cell_type": "code",
      "metadata": {
        "id": "UUODDndW7xhy"
      },
      "source": [
        "# Take state and output value for every state-goal pair\n",
        "class MetaController(nn.Module):\n",
        "  def __init__(self, env_name):\n",
        "    super(MetaController, self).__init__()\n",
        "\n",
        "    if env_name == 'FourRooms':\n",
        "      self.in_features = 225 \n",
        "      self.out_features = 225\n",
        "    elif env_name == 'CraftingWorld':\n",
        "      self.in_features = 9 \n",
        "      self.out_features = 9\n",
        "\n",
        "    self.fc1 = nn.Linear(self.in_features, 256)\n",
        "    self.fc2 = nn.Linear(256, self.out_features)\n",
        "\n",
        "  def forward(self, x):\n",
        "    x = F.relu(self.fc1(x))\n",
        "    return self.fc2(x)"
      ],
      "execution_count": 18,
      "outputs": []
    },
    {
      "cell_type": "code",
      "metadata": {
        "id": "EHMlx7oE74em"
      },
      "source": [
        "# Take (state, goal) and output value for every (state, goal)-action pair\n",
        "class Controller(nn.Module):\n",
        "  def __init__(self, env_name):\n",
        "    super(Controller, self).__init__()\n",
        "    \n",
        "    if env_name == 'FourRooms':\n",
        "      self.in_features = 450 # env.num_possible_states * 2\n",
        "      self.out_features = 4\n",
        "    elif env_name == 'CraftingWorld':\n",
        "      self.in_features = 18\n",
        "      self.out_features = 6\n",
        "\n",
        "    self.fc1 = nn.Linear(self.in_features, 256)\n",
        "    self.fc2 = nn.Linear(256, self.out_features)\n",
        "\n",
        "  def forward(self, x):\n",
        "    x = F.relu(self.fc1(x))\n",
        "    return self.fc2(x)"
      ],
      "execution_count": 19,
      "outputs": []
    },
    {
      "cell_type": "markdown",
      "metadata": {
        "id": "crTkIsUF6eTO"
      },
      "source": [
        "### Construct the agent"
      ]
    },
    {
      "cell_type": "code",
      "metadata": {
        "id": "6IcYWPru78ea"
      },
      "source": [
        "OptimizerSpec = namedtuple(\"OptimizerSpec\", [\"constructor\", \"kwargs\"])"
      ],
      "execution_count": 20,
      "outputs": []
    },
    {
      "cell_type": "code",
      "metadata": {
        "id": "LZ42-k8W31vD"
      },
      "source": [
        "USE_CUDA = torch.cuda.is_available()\n",
        "dtype = torch.cuda.FloatTensor if torch.cuda.is_available() else torch.FloatTensor\n",
        "\n",
        "class Variable(autograd.Variable):\n",
        "  def __init__(self, data, *args, **kwargs):\n",
        "    if USE_CUDA:\n",
        "      data = data.cuda()\n",
        "    super(Variable, self).__init__(data, *args, **kwargs)"
      ],
      "execution_count": 21,
      "outputs": []
    },
    {
      "cell_type": "code",
      "metadata": {
        "id": "5J4OLHGp8APq"
      },
      "source": [
        "class hDQN():\n",
        "  # Build model\n",
        "  def __init__(self, env_name,\n",
        "              optimizer_spec,\n",
        "              num_goal=0, \n",
        "              num_action=0, \n",
        "              replay_memory_size=10000,\n",
        "              batch_size=32): \n",
        "    \n",
        "    if env_name == 'FourRooms':\n",
        "      # The number of goal that agent can choose from\n",
        "      self.num_goal = 225 #env.num_possible_states\n",
        "      # The number of action that agent can choose from\n",
        "      self.num_action = 4\n",
        "    elif env_name == 'CraftingWorld':\n",
        "      self.num_goal = 9\n",
        "      self.num_action = 6\n",
        "\n",
        "    # How many transitions to sample each time experience is replayed\n",
        "    self.batch_size = batch_size\n",
        "\n",
        "    # Construct meta-controller and controller\n",
        "    self.meta_controller = MetaController(env_name).type(dtype) \n",
        "    self.target_meta_controller = MetaController(env_name).type(dtype) \n",
        "    self.controller = Controller(env_name).type(dtype) \n",
        "    self.target_controller = Controller(env_name).type(dtype) \n",
        "\n",
        "    # Construct the optimizers for meta-controller and controller\n",
        "    self.meta_optimizer = optimizer_spec.constructor(self.meta_controller.parameters(), **optimizer_spec.kwargs)\n",
        "    self.ctrl_optimizer = optimizer_spec.constructor(self.controller.parameters(), **optimizer_spec.kwargs)\n",
        "    \n",
        "    # Construct the replay memory for meta-controller and controller\n",
        "    self.meta_replay_memory = ReplayBuffer(replay_memory_size)\n",
        "    self.ctrl_replay_memory = ReplayBuffer(replay_memory_size)\n",
        "\n",
        "  # Calculate intrinsic reward\n",
        "  def get_intrinsic_reward(self, env_name, goal, state):\n",
        "    if env_name == 'FourRooms':\n",
        "      return 1.0 if goal == state else -1.0\n",
        "    elif env_name == 'CraftingWorld':\n",
        "      return 100.0 if goal == state else 0.0  \n",
        "\n",
        "  def select_goal(self, state, epsilon):\n",
        "    sample = random.random()\n",
        "    if sample > epsilon:\n",
        "      state = torch.from_numpy(state).type(dtype)\n",
        "      with torch.no_grad():\n",
        "        res = self.meta_controller(Variable(state)).data.max(1)[1].cpu()\n",
        "      return res\n",
        "    else:\n",
        "      return torch.IntTensor([random.randrange(self.num_goal)])\n",
        "\n",
        "  def select_action(self, joint_state_goal, epilson):\n",
        "    sample = random.random()\n",
        "    if sample > epilson:\n",
        "      joint_state_goal = torch.from_numpy(joint_state_goal).type(dtype)\n",
        "      with torch.no_grad():\n",
        "        res = self.controller(Variable(joint_state_goal)).data.max(1)[1].cpu()\n",
        "      return res\n",
        "    else:\n",
        "      return torch.IntTensor([random.randrange(self.num_action)])\n",
        "\n",
        "  def update_meta_controller(self, gamma=1.0):\n",
        "    if len(self.meta_replay_memory) < self.batch_size:\n",
        "      return\n",
        "\n",
        "    state_batch, goal_batch, next_state_batch, ex_reward_batch, done_mask = \\\n",
        "      self.meta_replay_memory.sample(self.batch_size)\n",
        "    state_batch = Variable(torch.from_numpy(state_batch).type(dtype))\n",
        "    goal_batch = Variable(torch.from_numpy(goal_batch).long())\n",
        "    next_state_batch = Variable(torch.from_numpy(next_state_batch).type(dtype))\n",
        "    ex_reward_batch = Variable(torch.from_numpy(ex_reward_batch).type(dtype))\n",
        "    not_done_mask = Variable(torch.from_numpy(1 - done_mask)).type(dtype)\n",
        "    \n",
        "    if USE_CUDA:\n",
        "      goal_batch = goal_batch.cuda()\n",
        "\n",
        "    # Compute current Q value and choose Q based on subgoal chosen\n",
        "    current_Q_values = self.meta_controller(state_batch).gather(1, goal_batch.unsqueeze(1))\n",
        "\n",
        "    # Compute next Q value based on which subgoal gives max Q values and detach variable from the current graph \n",
        "    next_max_q = self.target_meta_controller(next_state_batch).detach().max(1)[0]\n",
        "    next_Q_values = not_done_mask * next_max_q\n",
        "\n",
        "    # Compute the target of the current Q values\n",
        "    target_Q_values = ex_reward_batch + (gamma * next_Q_values)\n",
        "    # Compute Bellman error (using Huber loss)\n",
        "    loss = F.smooth_l1_loss(current_Q_values, target_Q_values)\n",
        "\n",
        "    # Copy Q to target Q before updating parameters of Q\n",
        "    self.target_meta_controller.load_state_dict(self.meta_controller.state_dict())\n",
        "    \n",
        "    # Optimize the model\n",
        "    self.meta_optimizer.zero_grad()\n",
        "    loss.backward()\n",
        "    for param in self.meta_controller.parameters():\n",
        "      param.grad.data.clamp_(-1, 1)\n",
        "    self.meta_optimizer.step()\n",
        "\n",
        "  def update_controller(self, gamma=1.0):\n",
        "    if len(self.ctrl_replay_memory) < self.batch_size:\n",
        "      return\n",
        "\n",
        "    state_goal_batch, action_batch, next_state_goal_batch, in_reward_batch, done_mask = \\\n",
        "      self.ctrl_replay_memory.sample(self.batch_size)\n",
        "    state_goal_batch = Variable(torch.from_numpy(state_goal_batch).type(dtype))\n",
        "    action_batch = Variable(torch.from_numpy(action_batch).long())\n",
        "    next_state_goal_batch = Variable(torch.from_numpy(next_state_goal_batch).type(dtype))\n",
        "    in_reward_batch = Variable(torch.from_numpy(in_reward_batch).type(dtype))\n",
        "    not_done_mask = Variable(torch.from_numpy(1 - done_mask)).type(dtype)\n",
        "    \n",
        "    if USE_CUDA:\n",
        "      action_batch = action_batch.cuda()\n",
        "\n",
        "    # Compute current Q value and choose Q based on primitive action taken\n",
        "    current_Q_values = self.controller(state_goal_batch).gather(1, action_batch.unsqueeze(1))\n",
        "\n",
        "    # Compute next Q value based on which action gives max Q values and detach variable from the current graph \n",
        "    next_max_q = self.target_controller(next_state_goal_batch).detach().max(1)[0]\n",
        "    next_Q_values = not_done_mask * next_max_q\n",
        "\n",
        "    # Compute the target of the current Q values\n",
        "    target_Q_values = in_reward_batch + (gamma * next_Q_values)\n",
        "    # Compute Bellman error (using Huber loss)\n",
        "    loss = F.smooth_l1_loss(current_Q_values, target_Q_values)\n",
        "\n",
        "    # Copy Q to target Q before updating parameters of Q\n",
        "    self.target_controller.load_state_dict(self.controller.state_dict())\n",
        "\n",
        "    # Optimize the model\n",
        "    self.ctrl_optimizer.zero_grad()\n",
        "    loss.backward()\n",
        "    for param in self.controller.parameters():\n",
        "      param.grad.data.clamp_(-1, 1)\n",
        "    self.ctrl_optimizer.step()"
      ],
      "execution_count": 22,
      "outputs": []
    },
    {
      "cell_type": "markdown",
      "metadata": {
        "id": "I_5AdgKf6cQJ"
      },
      "source": [
        "### h-DQN algorithm"
      ]
    },
    {
      "cell_type": "code",
      "metadata": {
        "id": "DY90Z6mHcLHV"
      },
      "source": [
        "def one_hot_state(state, size):\n",
        "    vector = np.zeros(size)\n",
        "    vector[state] = 1.0\n",
        "    return np.expand_dims(vector, axis=0)\n",
        "\n",
        "def one_hot_goal(goal, size):\n",
        "    vector = np.zeros(size)\n",
        "    vector[goal] = 1.0\n",
        "    return np.expand_dims(vector, axis=0)"
      ],
      "execution_count": 23,
      "outputs": []
    },
    {
      "cell_type": "code",
      "metadata": {
        "id": "PD9FPBNDL0SB"
      },
      "source": [
        "# Return a trained h-DQN agent consists of a meta-controller and a controller, stats (EpisodeStats object), visits (2D array), tasks (2D array)\n",
        "def hdqn_learning(env_name, agent, num_episodes,\n",
        "                  exploration_schedule=ExplorationSchedule(50000, 0.1, 1.0),\n",
        "                  gamma=0.99):\n",
        "\n",
        "  n_hundred_episode = int(np.floor(num_episodes / 100))\n",
        "  total_timestep = 0\n",
        "  meta_timestep = 0\n",
        "  ctrl_timestep = defaultdict(int) #store time step for each subgoal\n",
        "\n",
        "  if env_name == 'FourRooms':\n",
        "    env = Four_Rooms_Env()\n",
        "    # State = location on grid\n",
        "    visits = np.zeros((n_hundred_episode, env.num_possible_states))\n",
        "    tasks = np.zeros((n_hundred_episode, 0))\n",
        "  elif env_name == 'CraftingWorld':\n",
        "    env = gym.make('craftingworldSparseEnv-v0')\n",
        "    # State = type of co-located object \n",
        "    visits = np.zeros((n_hundred_episode, 9))\n",
        "    tasks = np.zeros((n_hundred_episode, 9))\n",
        "\n",
        "  # Keep track of useful statistics\n",
        "  stats = EpisodeStats(episode_lengths=np.zeros(num_episodes),\n",
        "                       episode_rewards=np.zeros(num_episodes))\n",
        "\n",
        "  for i_hundred_episode in range(n_hundred_episode):\n",
        "    for i_episode in range(100):\n",
        "      episode_length = 0\n",
        "\n",
        "      if env_name == 'FourRooms':\n",
        "        env.reset()\n",
        "        current_state = env.location_to_state(env.current_user_loc)\n",
        "        visits[i_hundred_episode][current_state] += 1\n",
        "        encoded_current_state = one_hot_state(current_state, env.num_possible_states)\n",
        "  \n",
        "      elif env_name == 'CraftingWorld':\n",
        "        env.reset()\n",
        "        obs, _, _, _ = env.step(0)\n",
        "\n",
        "        current_states = check_colocated_objects(env, obs)\n",
        "        if len(current_states) > 0:\n",
        "          current_state = current_states[0]\n",
        "          for s in current_states:\n",
        "            visits[i_hundred_episode][s] += 1\n",
        "        else:\n",
        "          visits[i_hundred_episode][8] += 1\n",
        "          current_state = 8 \n",
        "\n",
        "        current_tasks = check_tasks_done(env, obs)\n",
        "        if len(current_tasks) > 0:\n",
        "          for g in current_tasks:\n",
        "            tasks[i_hundred_episode][g] += 1\n",
        "\n",
        "        encoded_current_state = one_hot_state(current_state, 9)\n",
        "\n",
        "      done = False\n",
        "      while not done:\n",
        "        meta_timestep += 1\n",
        "\n",
        "        # Get meta epsilon from exploration_schedule\n",
        "        meta_epsilon = exploration_schedule.value(total_timestep)\n",
        "\n",
        "        if env_name == 'FourRooms':\n",
        "          # Select greedy subgoal (expected grid location) from meta state \n",
        "          subgoal = agent.select_goal(encoded_current_state, meta_epsilon)[0]\n",
        "          encoded_goal = one_hot_goal(subgoal,env.num_possible_states)\n",
        "        elif env_name == 'CraftingWorld':\n",
        "          # Select greedy subgoal (expected object co-located) from meta state \n",
        "          subgoal = agent.select_goal(encoded_current_state, meta_epsilon)[0]\n",
        "          encoded_goal = one_hot_goal(subgoal, 9)\n",
        "\n",
        "        meta_extrinsic_reward = 0 # The total extrinsic reward of each episode\n",
        "\n",
        "        subgoal_reached = False\n",
        "        while not done and not subgoal_reached:\n",
        "          total_timestep += 1\n",
        "          episode_length += 1\n",
        "          ctrl_timestep[subgoal] += 1\n",
        "\n",
        "          # Get epsilon from exploration_schedule\n",
        "          ctrl_epsilon = exploration_schedule.value(total_timestep)\n",
        "          # Select greedy primitive action from state-goal pair \n",
        "          state_subgoal_pair = np.concatenate([encoded_current_state, encoded_goal], axis=1)\n",
        "          action = agent.select_action(state_subgoal_pair, ctrl_epsilon)[0]\n",
        "\n",
        "          # Step the environment \n",
        "          if env_name == 'FourRooms':\n",
        "            obs, extrinsic_reward, intrinsic_done, _ = env.step(action) \n",
        "            next_state = env.location_to_state(env.current_user_loc)\n",
        "            visits[i_hundred_episode][next_state] += 1\n",
        "            encoded_next_state = one_hot_state(next_state, env.num_possible_states)\n",
        "\n",
        "          elif env_name == 'CraftingWorld':\n",
        "            obs, extrinsic_reward, intrinsic_done, _ = env.step(action) \n",
        "\n",
        "            next_states = check_colocated_objects(env, obs)\n",
        "            if len(next_states) > 0:\n",
        "              next_state = next_states[0]\n",
        "              for s in next_states:\n",
        "                visits[i_hundred_episode][s] += 1\n",
        "            else:\n",
        "              visits[i_hundred_episode][8] += 1\n",
        "              next_state = 8 \n",
        "\n",
        "            next_tasks = check_tasks_done(env, obs)\n",
        "            if len(next_tasks) > 0:\n",
        "              for g in next_tasks:\n",
        "                tasks[i_hundred_episode][g] += 1\n",
        "            \n",
        "            encoded_next_state = one_hot_state(next_state, 9)\n",
        "\n",
        "          # Calculate intrinsic reward\n",
        "          intrinsic_reward = agent.get_intrinsic_reward(env_name, subgoal, next_state)\n",
        "          # Check if the goal is reached after stepping the environment\n",
        "          subgoal_reached = next_state == subgoal\n",
        "          \n",
        "          # Update statistics\n",
        "          stats.episode_rewards[i_hundred_episode*100 + i_episode] += extrinsic_reward\n",
        "          stats.episode_lengths[i_hundred_episode*100 + i_episode] = episode_length\n",
        "\n",
        "          # Store the transition of the controller\n",
        "          next_state_subgoal_pair = np.concatenate([encoded_next_state, encoded_goal], axis=1)\n",
        "          # The state-goal pair is the intrinsic state of the controller \n",
        "          agent.ctrl_replay_memory.store_transition(state_subgoal_pair, action, next_state_subgoal_pair, intrinsic_reward, intrinsic_done)\n",
        "\n",
        "          # Update both meta-controller and controller\n",
        "          agent.update_meta_controller(gamma)\n",
        "          agent.update_controller(gamma)\n",
        "          meta_extrinsic_reward += extrinsic_reward\n",
        "          current_state = next_state\n",
        "          encoded_current_state = encoded_next_state\n",
        "\n",
        "        # Store the transition of the meta-controller when a subgoal is reached\n",
        "        agent.meta_replay_memory.store_transition(encoded_current_state, subgoal, encoded_next_state, meta_extrinsic_reward, done)\n",
        "\n",
        "  return agent, stats, visits, tasks"
      ],
      "execution_count": 24,
      "outputs": []
    },
    {
      "cell_type": "markdown",
      "metadata": {
        "id": "sPQ0Oq1L95t8"
      },
      "source": [
        "# Experiments"
      ]
    },
    {
      "cell_type": "markdown",
      "metadata": {
        "id": "q7li3uRE1amp"
      },
      "source": [
        "## Plotting functions"
      ]
    },
    {
      "cell_type": "code",
      "metadata": {
        "id": "hUhviJsKBPkI"
      },
      "source": [
        "from matplotlib.pyplot import cm"
      ],
      "execution_count": 25,
      "outputs": []
    },
    {
      "cell_type": "code",
      "metadata": {
        "id": "t92OmVPL465S"
      },
      "source": [
        "def plot_episode_stats(stats, smoothing_window=10, noshow=False):\n",
        "  # Plot the episode reward over time\n",
        "  fig = pyplot.figure(figsize=(10,5))\n",
        "  rewards_smoothed = pd.Series(stats.episode_rewards).rolling(smoothing_window, min_periods=smoothing_window).mean()\n",
        "  pyplot.plot(rewards_smoothed)\n",
        "  pyplot.xlabel(\"Episode\")\n",
        "  pyplot.ylabel(\"Episode Reward\")\n",
        "  pyplot.title(\"Episode Reward over Time\")\n",
        "  pyplot.show(fig)"
      ],
      "execution_count": 26,
      "outputs": []
    },
    {
      "cell_type": "code",
      "metadata": {
        "id": "8kpy7QjN49X3"
      },
      "source": [
        "def plot_visited_states(visits, num_episodes):\n",
        "  n_hundred_episode = int(np.floor(num_episodes / 100)) \n",
        "  eps = list(range(1, n_hundred_episode + 1))\n",
        "  pyplot.figure(figsize=(20,10))\n",
        "\n",
        "  n_state = visits.shape[1] \n",
        "  color=iter(cm.rainbow(np.linspace(0,1,n_state)))\n",
        "  for i_state in range(n_state):\n",
        "    state_label = \"State %d\" % (i_state + 1)\n",
        "    c=next(color)\n",
        "    pyplot.plot(eps, visits[:, i_state]/100, label=state_label, c=c) \n",
        "\n",
        "  #pyplot.legend()\n",
        "  pyplot.xlabel(\"Episodes (*100)\")\n",
        "  pyplot.title(\"Number of visits averaged over 100 episodes\")\n",
        "  pyplot.ylim(-1,15)\n",
        "  pyplot.grid(True)"
      ],
      "execution_count": 27,
      "outputs": []
    },
    {
      "cell_type": "code",
      "metadata": {
        "id": "0K4aIpDV6Dt0"
      },
      "source": [
        "def plot_tasks_done(tasks, num_episodes):\n",
        "  n_hundred_episode = int(np.floor(num_episodes / 100)) \n",
        "  eps = list(range(1, n_hundred_episode + 1))\n",
        "  pyplot.figure(figsize=(20,10))\n",
        "\n",
        "  n_state = tasks.shape[1]\n",
        "  color=iter(cm.rainbow(np.linspace(0,1,n_state)))\n",
        "  for i_g in range(n_state):\n",
        "    g_label = \"Task %d\" % (i_g + 1)\n",
        "    c=next(color)\n",
        "    pyplot.plot(eps, tasks[:, i_g]/100, label=g_label, c=c) \n",
        "\n",
        "  pyplot.legend()\n",
        "  pyplot.xlabel(\"Episodes (*100)\")\n",
        "  pyplot.title(\"Number of tasks done averaged over 100 episodes\")\n",
        "  pyplot.grid(True)"
      ],
      "execution_count": 28,
      "outputs": []
    },
    {
      "cell_type": "markdown",
      "metadata": {
        "id": "IuB6dvXS6Ylq"
      },
      "source": [
        "## FourRooms Environment"
      ]
    },
    {
      "cell_type": "markdown",
      "metadata": {
        "id": "32EaJTK1vMlo"
      },
      "source": [
        "### Q-learning"
      ]
    },
    {
      "cell_type": "code",
      "metadata": {
        "id": "hKcqtoVr6szt"
      },
      "source": [
        "NUM_EPISODES = 500\n",
        "Q, stats, visits, tasks = q_learning('FourRooms', NUM_EPISODES, lr=0.025, exploration_schedule=ExplorationSchedule(50000, 0.1, 1.0))"
      ],
      "execution_count": 35,
      "outputs": []
    },
    {
      "cell_type": "code",
      "metadata": {
        "id": "5Jy_iUl-6wkh",
        "colab": {
          "base_uri": "https://localhost:8080/",
          "height": 354
        },
        "outputId": "33d45634-c5a0-4e8c-82ab-f9e98104e4c2"
      },
      "source": [
        "plot_episode_stats(stats)"
      ],
      "execution_count": 36,
      "outputs": [
        {
          "output_type": "display_data",
          "data": {
            "image/png": "[encoded data removed]",
            "text/plain": [
              "<Figure size 720x360 with 1 Axes>"
            ]
          },
          "metadata": {
            "tags": [],
            "needs_background": "light"
          }
        }
      ]
    },
    {
      "cell_type": "code",
      "metadata": {
        "id": "iTplWld_6xwR",
        "colab": {
          "base_uri": "https://localhost:8080/",
          "height": 521
        },
        "outputId": "4069b47e-8776-49ae-c4e1-d94e4b0d63db"
      },
      "source": [
        "plot_visited_states(visits, NUM_EPISODES)"
      ],
      "execution_count": 37,
      "outputs": [
        {
          "output_type": "display_data",
          "data": {
            "image/png": "[encoded data removed]",
            "text/plain": [
              "<Figure size 1440x720 with 1 Axes>"
            ]
          },
          "metadata": {
            "tags": [],
            "needs_background": "light"
          }
        }
      ]
    },
    {
      "cell_type": "markdown",
      "metadata": {
        "id": "ObZ4n8717CiL"
      },
      "source": [
        "### h-DQN"
      ]
    },
    {
      "cell_type": "code",
      "metadata": {
        "id": "20O1XyWAHRbs"
      },
      "source": [
        "NUM_EPISODES = 500\n",
        "BATCH_SIZE = 32\n",
        "GAMMA = 1.0\n",
        "REPLAY_MEMORY_SIZE = 1000000\n",
        "LEARNING_RATE = 0.025\n",
        "ALPHA = 0.95\n",
        "EPS = 0.01\n",
        "\n",
        "optimizer_spec = OptimizerSpec(\n",
        "  constructor=optim.RMSprop,\n",
        "  kwargs=dict(lr=LEARNING_RATE, alpha=ALPHA, eps=EPS)\n",
        ")\n",
        "\n",
        "agent = hDQN(\n",
        "  env_name='FourRooms',\n",
        "  optimizer_spec=optimizer_spec,\n",
        "  replay_memory_size=REPLAY_MEMORY_SIZE,\n",
        "  batch_size=BATCH_SIZE\n",
        ")"
      ],
      "execution_count": null,
      "outputs": []
    },
    {
      "cell_type": "code",
      "metadata": {
        "id": "eAFUnLBNfEDT"
      },
      "source": [
        "agent, stats2, visits2, tasks2 = hdqn_learning(\n",
        "  env_name='FourRooms',\n",
        "  agent=agent,\n",
        "  num_episodes=NUM_EPISODES,\n",
        "  exploration_schedule=ExplorationSchedule(50000, 0.1, 1),\n",
        "  gamma=GAMMA\n",
        ")"
      ],
      "execution_count": null,
      "outputs": []
    },
    {
      "cell_type": "code",
      "metadata": {
        "id": "zIDwCOY_7UB8"
      },
      "source": [
        "plot_episode_stats(stats2)"
      ],
      "execution_count": null,
      "outputs": []
    },
    {
      "cell_type": "code",
      "metadata": {
        "id": "3D4rkb5w7V_I"
      },
      "source": [
        "plot_visited_states(visits2, NUM_EPISODES)"
      ],
      "execution_count": null,
      "outputs": []
    },
    {
      "cell_type": "markdown",
      "metadata": {
        "id": "-NhAyV_JD9Db"
      },
      "source": [
        "## CraftingWorld Environment"
      ]
    },
    {
      "cell_type": "markdown",
      "metadata": {
        "id": "oHpDfI3DD9Dn"
      },
      "source": [
        "### Q-learning"
      ]
    },
    {
      "cell_type": "code",
      "metadata": {
        "colab": {
          "base_uri": "https://localhost:8080/"
        },
        "id": "hPftAgqlD9Dn",
        "outputId": "83050502-244e-4e43-8641-112a18619d22"
      },
      "source": [
        "# Try factory reset runtime if having error\n",
        "NUM_EPISODES = 500\n",
        "Q1, stats1, visits1, tasks1 = q_learning('CraftingWorld', NUM_EPISODES, lr=0.025, exploration_schedule=ExplorationSchedule(50000, 0.1, 1.0))"
      ],
      "execution_count": 38,
      "outputs": [
        {
          "output_type": "stream",
          "text": [
            "/usr/local/lib/python3.7/dist-packages/ipykernel_launcher.py:3: VisibleDeprecationWarning: Creating an ndarray from ragged nested sequences (which is a list-or-tuple of lists-or-tuples-or ndarrays with different lengths or shapes) is deprecated. If you meant to do this, you must specify 'dtype=object' when creating the ndarray\n",
            "  This is separate from the ipykernel package so we can avoid doing imports until\n"
          ],
          "name": "stderr"
        }
      ]
    },
    {
      "cell_type": "code",
      "metadata": {
        "colab": {
          "base_uri": "https://localhost:8080/",
          "height": 354
        },
        "id": "9LO6jjnkD9Do",
        "outputId": "926f6ab7-7363-4c2b-d317-aae4727afc93"
      },
      "source": [
        "plot_episode_stats(stats1) "
      ],
      "execution_count": 39,
      "outputs": [
        {
          "output_type": "display_data",
          "data": {
            "image/png": "[encoded data removed]",
            "text/plain": [
              "<Figure size 720x360 with 1 Axes>"
            ]
          },
          "metadata": {
            "tags": [],
            "needs_background": "light"
          }
        }
      ]
    },
    {
      "cell_type": "code",
      "metadata": {
        "colab": {
          "base_uri": "https://localhost:8080/",
          "height": 521
        },
        "id": "46iQYsp7D9Do",
        "outputId": "171e6daf-ae51-43e3-e35f-a2f475da0ecf"
      },
      "source": [
        "plot_visited_states(visits1, NUM_EPISODES)"
      ],
      "execution_count": 40,
      "outputs": [
        {
          "output_type": "display_data",
          "data": {
            "image/png": "[encoded data removed]",
            "text/plain": [
              "<Figure size 1440x720 with 1 Axes>"
            ]
          },
          "metadata": {
            "tags": [],
            "needs_background": "light"
          }
        }
      ]
    },
    {
      "cell_type": "code",
      "metadata": {
        "colab": {
          "base_uri": "https://localhost:8080/",
          "height": 521
        },
        "id": "Jbrpw6yl6lQw",
        "outputId": "ac5a9829-a0af-4bcb-d0a0-c68d86a2b925"
      },
      "source": [
        "plot_tasks_done(tasks1, NUM_EPISODES)"
      ],
      "execution_count": 41,
      "outputs": [
        {
          "output_type": "display_data",
          "data": {
            "image/png": "[encoded data removed]",
            "text/plain": [
              "<Figure size 1440x720 with 1 Axes>"
            ]
          },
          "metadata": {
            "tags": [],
            "needs_background": "light"
          }
        }
      ]
    },
    {
      "cell_type": "markdown",
      "metadata": {
        "id": "2UGRXdCMD9Dp"
      },
      "source": [
        "### h-DQN"
      ]
    },
    {
      "cell_type": "code",
      "metadata": {
        "id": "gPTy2akuD9Dp"
      },
      "source": [
        "NUM_EPISODES = 500\n",
        "BATCH_SIZE = 32\n",
        "GAMMA = 1.0\n",
        "REPLAY_MEMORY_SIZE = 1000000\n",
        "LEARNING_RATE = 0.025\n",
        "ALPHA = 0.95\n",
        "EPS = 0.01\n",
        "\n",
        "optimizer_spec = OptimizerSpec(\n",
        "  constructor=optim.RMSprop,\n",
        "  kwargs=dict(lr=LEARNING_RATE, alpha=ALPHA, eps=EPS)\n",
        ")\n",
        "\n",
        "agent = hDQN(\n",
        "  env_name='CraftingWorld',\n",
        "  optimizer_spec=optimizer_spec,\n",
        "  replay_memory_size=REPLAY_MEMORY_SIZE,\n",
        "  batch_size=BATCH_SIZE\n",
        ")"
      ],
      "execution_count": null,
      "outputs": []
    },
    {
      "cell_type": "code",
      "metadata": {
        "colab": {
          "base_uri": "https://localhost:8080/"
        },
        "id": "2rYcceIshEWb",
        "outputId": "ec5d3cbe-d219-46db-dfee-710cd9fbaac7"
      },
      "source": [
        "agent, stats3, visits3, tasks3 = hdqn_learning(\n",
        "  env_name='CraftingWorld',\n",
        "  agent=agent,\n",
        "  num_episodes=NUM_EPISODES,\n",
        "  exploration_schedule=ExplorationSchedule(50000, 0.1, 1),\n",
        "  gamma=GAMMA\n",
        ")"
      ],
      "execution_count": null,
      "outputs": [
        {
          "output_type": "stream",
          "text": [
            "/usr/local/lib/python3.7/dist-packages/ipykernel_launcher.py:3: VisibleDeprecationWarning: Creating an ndarray from ragged nested sequences (which is a list-or-tuple of lists-or-tuples-or ndarrays with different lengths or shapes) is deprecated. If you meant to do this, you must specify 'dtype=object' when creating the ndarray\n",
            "  This is separate from the ipykernel package so we can avoid doing imports until\n",
            "/usr/local/lib/python3.7/dist-packages/ipykernel_launcher.py:123: UserWarning: Using a target size (torch.Size([32])) that is different to the input size (torch.Size([32, 1])). This will likely lead to incorrect results due to broadcasting. Please ensure they have the same size.\n"
          ],
          "name": "stderr"
        }
      ]
    },
    {
      "cell_type": "code",
      "metadata": {
        "id": "jAkHQJ0lD9Dq"
      },
      "source": [
        "plot_episode_stats(stats3) "
      ],
      "execution_count": null,
      "outputs": []
    },
    {
      "cell_type": "code",
      "metadata": {
        "id": "aYKAJtsvD9Dq"
      },
      "source": [
        "plot_visited_states(visits3, NUM_EPISODES)"
      ],
      "execution_count": null,
      "outputs": []
    },
    {
      "cell_type": "code",
      "metadata": {
        "id": "XYFrrxhVZGJI"
      },
      "source": [
        "plot_tasks_done(tasks3, NUM_EPISODES)"
      ],
      "execution_count": null,
      "outputs": []
    }
  ]
}